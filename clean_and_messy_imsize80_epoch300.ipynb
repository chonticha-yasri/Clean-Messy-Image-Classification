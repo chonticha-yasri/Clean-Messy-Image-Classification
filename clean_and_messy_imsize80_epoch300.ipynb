{
 "cells": [
  {
   "cell_type": "code",
   "execution_count": 19,
   "metadata": {
    "id": "AY7c9V_Eq101"
   },
   "outputs": [],
   "source": [
    "import cv2\n",
    "import os\n",
    "import random\n",
    "import matplotlib.pyplot as plt\n",
    "import numpy as np\n",
    "\n",
    "import tensorflow as tf\n",
    "Adam = tf.keras.optimizers.Adam\n",
    "to_categorical = tf.keras.utils.to_categorical\n",
    "ImageDataGenerator = tf.keras.preprocessing.image.ImageDataGenerator\n",
    "fashion_mnist = tf.keras.datasets.fashion_mnist\n",
    "load_img = tf.keras.preprocessing.image.load_img\n",
    "img_to_array = tf.keras.preprocessing.image.img_to_array\n",
    "\n",
    "from sklearn.model_selection import train_test_split\n",
    "import matplotlib.pyplot as plt\n",
    "\n",
    "import plotly.graph_objs as go\n",
    "from plotly import subplots\n",
    "import plotly\n",
    "\n",
    "from sklearn.metrics import confusion_matrix\n",
    "import plotly.figure_factory as ff\n",
    "from sklearn.metrics import classification_report\n",
    "\n",
    "import warnings\n",
    "warnings.filterwarnings('ignore')"
   ]
  },
  {
   "cell_type": "code",
   "execution_count": 29,
   "metadata": {
    "id": "iIGlNHb83_tS"
   },
   "outputs": [],
   "source": [
    "IMG_ROWS = 80\n",
    "IMG_COLS = 80\n",
    "NUM_CLASSES = 2\n",
    "VAL_SIZE = 0.2\n",
    "RANDOM_STATE = 99\n",
    "BATCH_SIZE = 256"
   ]
  },
  {
   "cell_type": "code",
   "execution_count": 40,
   "metadata": {
    "id": "opX5u0JKphV1"
   },
   "outputs": [],
   "source": [
    "DIRECTORY_TRAIN = r'C:\\dataprocess\\clean and messy\\train'\n",
    "DIRECTORY_TEST = r'C:\\dataprocess\\clean and messy\\test'\n",
    "CATEGORIES = ['clean','messy']"
   ]
  },
  {
   "cell_type": "code",
   "execution_count": 41,
   "metadata": {},
   "outputs": [
    {
     "name": "stdout",
     "output_type": "stream",
     "text": [
      "C:\\dataprocess\\clean and messy\\train\\clean\n",
      "C:\\dataprocess\\clean and messy\\train\\messy\n"
     ]
    }
   ],
   "source": [
    "for category in CATEGORIES:\n",
    "    folder = os.path.join(DIRECTORY_TRAIN, category)\n",
    "    print(folder)"
   ]
  },
  {
   "cell_type": "code",
   "execution_count": 31,
   "metadata": {
    "id": "tOb5veG9ue8b"
   },
   "outputs": [],
   "source": [
    "def import_data(DIRECTORY):\n",
    "    list_data = []\n",
    "    for category in CATEGORIES:\n",
    "        folder = os.path.join(DIRECTORY, category)\n",
    "        label = CATEGORIES.index(category)\n",
    "        for img in os.listdir(folder):\n",
    "            img_path = os.path.join(folder, img)\n",
    "            img_arr = cv2.imread(img_path)\n",
    "            img_arr = cv2.resize(img_arr, (IMG_ROWS, IMG_COLS))\n",
    "            img_arr = cv2.cvtColor(img_arr, cv2.COLOR_BGR2GRAY)\n",
    "            list_data.append([img_arr, label])\n",
    "    return list_data"
   ]
  },
  {
   "cell_type": "code",
   "execution_count": 32,
   "metadata": {
    "id": "aEgWk6WAvUff"
   },
   "outputs": [
    {
     "ename": "error",
     "evalue": "OpenCV(4.5.3) C:\\Users\\runneradmin\\AppData\\Local\\Temp\\pip-req-build-q3d_8t8e\\opencv\\modules\\imgproc\\src\\resize.cpp:4051: error: (-215:Assertion failed) !ssize.empty() in function 'cv::resize'\n",
     "output_type": "error",
     "traceback": [
      "\u001b[1;31m---------------------------------------------------------------------------\u001b[0m",
      "\u001b[1;31merror\u001b[0m                                     Traceback (most recent call last)",
      "\u001b[1;32m~\\AppData\\Local\\Temp/ipykernel_14212/1115495398.py\u001b[0m in \u001b[0;36m<module>\u001b[1;34m\u001b[0m\n\u001b[1;32m----> 1\u001b[1;33m \u001b[0mTrain_data\u001b[0m \u001b[1;33m=\u001b[0m \u001b[0mimport_data\u001b[0m\u001b[1;33m(\u001b[0m\u001b[0mDIRECTORY_TRAIN\u001b[0m\u001b[1;33m)\u001b[0m\u001b[1;33m\u001b[0m\u001b[1;33m\u001b[0m\u001b[0m\n\u001b[0m\u001b[0;32m      2\u001b[0m \u001b[0mTest_data\u001b[0m \u001b[1;33m=\u001b[0m \u001b[0mimport_data\u001b[0m\u001b[1;33m(\u001b[0m\u001b[0mDIRECTORY_TEST\u001b[0m\u001b[1;33m)\u001b[0m\u001b[1;33m\u001b[0m\u001b[1;33m\u001b[0m\u001b[0m\n",
      "\u001b[1;32m~\\AppData\\Local\\Temp/ipykernel_14212/2072602399.py\u001b[0m in \u001b[0;36mimport_data\u001b[1;34m(DIRECTORY)\u001b[0m\n\u001b[0;32m      7\u001b[0m             \u001b[0mimg_path\u001b[0m \u001b[1;33m=\u001b[0m \u001b[0mos\u001b[0m\u001b[1;33m.\u001b[0m\u001b[0mpath\u001b[0m\u001b[1;33m.\u001b[0m\u001b[0mjoin\u001b[0m\u001b[1;33m(\u001b[0m\u001b[0mfolder\u001b[0m\u001b[1;33m,\u001b[0m \u001b[0mimg\u001b[0m\u001b[1;33m)\u001b[0m\u001b[1;33m\u001b[0m\u001b[1;33m\u001b[0m\u001b[0m\n\u001b[0;32m      8\u001b[0m             \u001b[0mimg_arr\u001b[0m \u001b[1;33m=\u001b[0m \u001b[0mcv2\u001b[0m\u001b[1;33m.\u001b[0m\u001b[0mimread\u001b[0m\u001b[1;33m(\u001b[0m\u001b[0mimg_path\u001b[0m\u001b[1;33m)\u001b[0m\u001b[1;33m\u001b[0m\u001b[1;33m\u001b[0m\u001b[0m\n\u001b[1;32m----> 9\u001b[1;33m             \u001b[0mimg_arr\u001b[0m \u001b[1;33m=\u001b[0m \u001b[0mcv2\u001b[0m\u001b[1;33m.\u001b[0m\u001b[0mresize\u001b[0m\u001b[1;33m(\u001b[0m\u001b[0mimg_arr\u001b[0m\u001b[1;33m,\u001b[0m \u001b[1;33m(\u001b[0m\u001b[0mIMG_ROWS\u001b[0m\u001b[1;33m,\u001b[0m \u001b[0mIMG_COLS\u001b[0m\u001b[1;33m)\u001b[0m\u001b[1;33m)\u001b[0m\u001b[1;33m\u001b[0m\u001b[1;33m\u001b[0m\u001b[0m\n\u001b[0m\u001b[0;32m     10\u001b[0m             \u001b[0mimg_arr\u001b[0m \u001b[1;33m=\u001b[0m \u001b[0mcv2\u001b[0m\u001b[1;33m.\u001b[0m\u001b[0mcvtColor\u001b[0m\u001b[1;33m(\u001b[0m\u001b[0mimg_arr\u001b[0m\u001b[1;33m,\u001b[0m \u001b[0mcv2\u001b[0m\u001b[1;33m.\u001b[0m\u001b[0mCOLOR_BGR2GRAY\u001b[0m\u001b[1;33m)\u001b[0m\u001b[1;33m\u001b[0m\u001b[1;33m\u001b[0m\u001b[0m\n\u001b[0;32m     11\u001b[0m             \u001b[0mlist_data\u001b[0m\u001b[1;33m.\u001b[0m\u001b[0mappend\u001b[0m\u001b[1;33m(\u001b[0m\u001b[1;33m[\u001b[0m\u001b[0mimg_arr\u001b[0m\u001b[1;33m,\u001b[0m \u001b[0mlabel\u001b[0m\u001b[1;33m]\u001b[0m\u001b[1;33m)\u001b[0m\u001b[1;33m\u001b[0m\u001b[1;33m\u001b[0m\u001b[0m\n",
      "\u001b[1;31merror\u001b[0m: OpenCV(4.5.3) C:\\Users\\runneradmin\\AppData\\Local\\Temp\\pip-req-build-q3d_8t8e\\opencv\\modules\\imgproc\\src\\resize.cpp:4051: error: (-215:Assertion failed) !ssize.empty() in function 'cv::resize'\n"
     ]
    }
   ],
   "source": [
    "Train_data = import_data(DIRECTORY_TRAIN)\n",
    "Test_data = import_data(DIRECTORY_TEST)"
   ]
  },
  {
   "cell_type": "code",
   "execution_count": 27,
   "metadata": {
    "colab": {
     "base_uri": "https://localhost:8080/"
    },
    "id": "C4oetjwerXlq",
    "outputId": "8ae27904-e46e-4088-eda9-9da3f917cf6b"
   },
   "outputs": [
    {
     "ename": "NameError",
     "evalue": "name 'Train_data' is not defined",
     "output_type": "error",
     "traceback": [
      "\u001b[1;31m---------------------------------------------------------------------------\u001b[0m",
      "\u001b[1;31mNameError\u001b[0m                                 Traceback (most recent call last)",
      "\u001b[1;32m~\\AppData\\Local\\Temp/ipykernel_14212/1895165305.py\u001b[0m in \u001b[0;36m<module>\u001b[1;34m\u001b[0m\n\u001b[1;32m----> 1\u001b[1;33m \u001b[0mprint\u001b[0m\u001b[1;33m(\u001b[0m\u001b[0mlen\u001b[0m\u001b[1;33m(\u001b[0m\u001b[0mTrain_data\u001b[0m\u001b[1;33m)\u001b[0m\u001b[1;33m)\u001b[0m\u001b[1;33m\u001b[0m\u001b[1;33m\u001b[0m\u001b[0m\n\u001b[0m\u001b[0;32m      2\u001b[0m \u001b[0mprint\u001b[0m\u001b[1;33m(\u001b[0m\u001b[0mlen\u001b[0m\u001b[1;33m(\u001b[0m\u001b[0mTest_data\u001b[0m\u001b[1;33m)\u001b[0m\u001b[1;33m)\u001b[0m\u001b[1;33m\u001b[0m\u001b[1;33m\u001b[0m\u001b[0m\n",
      "\u001b[1;31mNameError\u001b[0m: name 'Train_data' is not defined"
     ]
    }
   ],
   "source": [
    "print(len(Train_data))\n",
    "print(len(Test_data))"
   ]
  },
  {
   "cell_type": "code",
   "execution_count": 28,
   "metadata": {
    "id": "kWSjbQSnsh8v"
   },
   "outputs": [
    {
     "ename": "NameError",
     "evalue": "name 'Train_data' is not defined",
     "output_type": "error",
     "traceback": [
      "\u001b[1;31m---------------------------------------------------------------------------\u001b[0m",
      "\u001b[1;31mNameError\u001b[0m                                 Traceback (most recent call last)",
      "\u001b[1;32m~\\AppData\\Local\\Temp/ipykernel_14212/2472730672.py\u001b[0m in \u001b[0;36m<module>\u001b[1;34m\u001b[0m\n\u001b[1;32m----> 1\u001b[1;33m \u001b[0mrandom\u001b[0m\u001b[1;33m.\u001b[0m\u001b[0mshuffle\u001b[0m\u001b[1;33m(\u001b[0m\u001b[0mTrain_data\u001b[0m\u001b[1;33m)\u001b[0m\u001b[1;33m\u001b[0m\u001b[1;33m\u001b[0m\u001b[0m\n\u001b[0m\u001b[0;32m      2\u001b[0m \u001b[0mrandom\u001b[0m\u001b[1;33m.\u001b[0m\u001b[0mshuffle\u001b[0m\u001b[1;33m(\u001b[0m\u001b[0mTest_data\u001b[0m\u001b[1;33m)\u001b[0m\u001b[1;33m\u001b[0m\u001b[1;33m\u001b[0m\u001b[0m\n",
      "\u001b[1;31mNameError\u001b[0m: name 'Train_data' is not defined"
     ]
    }
   ],
   "source": [
    "random.shuffle(Train_data)\n",
    "random.shuffle(Test_data)"
   ]
  },
  {
   "cell_type": "code",
   "execution_count": null,
   "metadata": {
    "id": "V4qehIWMtZsD"
   },
   "outputs": [],
   "source": [
    "def image_vactor(data):\n",
    "  feat = []\n",
    "  y = []\n",
    "  for features, labels in data:\n",
    "    feat.append(features)\n",
    "    y.append(labels)\n",
    "  feat = np.array(feat)\n",
    "  y = np.array(y)\n",
    "  return feat, y"
   ]
  },
  {
   "cell_type": "code",
   "execution_count": null,
   "metadata": {
    "id": "PZfXghjny0zc"
   },
   "outputs": [],
   "source": [
    "train_data, y = image_vactor(Train_data)\n",
    "test_data, y_test = image_vactor(Test_data)"
   ]
  },
  {
   "cell_type": "code",
   "execution_count": null,
   "metadata": {
    "colab": {
     "base_uri": "https://localhost:8080/"
    },
    "id": "4yqhb_yz71jn",
    "outputId": "abe17d22-7fcc-436f-e5f2-3135e8f47416"
   },
   "outputs": [],
   "source": [
    "train_data.shape"
   ]
  },
  {
   "cell_type": "code",
   "execution_count": null,
   "metadata": {
    "colab": {
     "base_uri": "https://localhost:8080/"
    },
    "id": "rg9NdrxLt_IM",
    "outputId": "13613d23-99b0-4644-8bcc-e3c58fad3af7"
   },
   "outputs": [],
   "source": [
    "print(\"clean and messy train -  rows:\",train_data.shape[0],\" columns:\", train_data.shape[1], \" rows:\", train_data.shape[2])\n",
    "print(\"clean and messy test -  rows:\",test_data.shape[0],\" columns:\", test_data.shape[1], \" rows:\", train_data.shape[2])"
   ]
  },
  {
   "cell_type": "code",
   "execution_count": null,
   "metadata": {
    "colab": {
     "base_uri": "https://localhost:8080/",
     "height": 296
    },
    "id": "Uvn3NgfxuDPD",
    "outputId": "bf8ada56-7f5a-448e-9250-42a80df84e92"
   },
   "outputs": [],
   "source": [
    "for i in range(9):\n",
    "    plt.subplot(330 + 1 + i)    \n",
    "    plt.imshow(train_data[i],cmap='gray', vmin=0, vmax=255)\n",
    "\n",
    "plt.tight_layout()\n",
    "plt.savefig('clean and messy.jpeg', dpi=300)"
   ]
  },
  {
   "cell_type": "code",
   "execution_count": null,
   "metadata": {
    "colab": {
     "base_uri": "https://localhost:8080/"
    },
    "id": "MHgJXjay2CEO",
    "outputId": "d1a12221-b25e-4853-c727-6afb776e6d08"
   },
   "outputs": [],
   "source": [
    "print(train_data.shape, test_data.shape, y.shape, y_test.shape)"
   ]
  },
  {
   "cell_type": "code",
   "execution_count": null,
   "metadata": {
    "colab": {
     "base_uri": "https://localhost:8080/"
    },
    "id": "C_0aJVoc2H9b",
    "outputId": "a4f31613-f44b-4c88-bc8f-7e1760b4b3ba"
   },
   "outputs": [],
   "source": [
    "unique, counts = np.unique(y, return_counts=True)\n",
    "dict(zip(unique, counts))"
   ]
  },
  {
   "cell_type": "code",
   "execution_count": null,
   "metadata": {
    "colab": {
     "base_uri": "https://localhost:8080/"
    },
    "id": "4314KwT72RKQ",
    "outputId": "511d1252-0157-4903-e98d-0261d52aa7f9"
   },
   "outputs": [],
   "source": [
    "unique, counts = np.unique(y_test, return_counts=True)\n",
    "dict(zip(unique, counts))"
   ]
  },
  {
   "cell_type": "code",
   "execution_count": null,
   "metadata": {
    "colab": {
     "base_uri": "https://localhost:8080/"
    },
    "id": "qxYgfTVGy-Yp",
    "outputId": "2f77ecd4-caa4-49cc-af72-1787be115bf7"
   },
   "outputs": [],
   "source": [
    "print(train_data.shape, test_data.shape)\n",
    "\n",
    "train_data = train_data.reshape((train_data.shape[0], 80, 80, 1))\n",
    "test_data = test_data.reshape((test_data.shape[0], 80, 80, 1))\n",
    "\n",
    "print(train_data.shape, test_data.shape)"
   ]
  },
  {
   "cell_type": "code",
   "execution_count": null,
   "metadata": {
    "id": "-BNyyh2T3Hk9"
   },
   "outputs": [],
   "source": [
    "train_data = train_data / 255.0\n",
    "test_data = test_data / 255.0"
   ]
  },
  {
   "cell_type": "code",
   "execution_count": null,
   "metadata": {
    "colab": {
     "base_uri": "https://localhost:8080/"
    },
    "id": "graVoFwg3uf8",
    "outputId": "5aaeb080-e115-4c2d-f4cc-0c3dc84463a5"
   },
   "outputs": [],
   "source": [
    "print(y.shape, y_test.shape)\n",
    "print(y[:10])"
   ]
  },
  {
   "cell_type": "code",
   "execution_count": null,
   "metadata": {
    "colab": {
     "base_uri": "https://localhost:8080/"
    },
    "id": "HDV4rQHp3wXm",
    "outputId": "cdbf86b6-b321-4c0f-f217-c246cdd47b91"
   },
   "outputs": [],
   "source": [
    "y = to_categorical(y)\n",
    "y_test = to_categorical(y_test)\n",
    "\n",
    "print(y.shape, y_test.shape)\n",
    "y[:10]"
   ]
  },
  {
   "cell_type": "code",
   "execution_count": null,
   "metadata": {
    "colab": {
     "base_uri": "https://localhost:8080/"
    },
    "id": "WnorN8d03zTo",
    "outputId": "c0504dce-456e-4077-a378-d62475b957f2"
   },
   "outputs": [],
   "source": [
    "x_train, x_val, y_train, y_val = train_test_split(train_data, y, test_size=VAL_SIZE, random_state=RANDOM_STATE)\n",
    "\n",
    "x_train.shape, x_val.shape, y_train.shape, y_val.shape"
   ]
  },
  {
   "cell_type": "code",
   "execution_count": null,
   "metadata": {
    "colab": {
     "base_uri": "https://localhost:8080/"
    },
    "id": "RabkOWcV5Ik9",
    "outputId": "7b139ee8-a1ee-4785-98d2-82756f4235d1"
   },
   "outputs": [],
   "source": [
    "unique, counts = np.unique(y_val, return_counts=True)\n",
    "dict(zip(unique, counts))"
   ]
  },
  {
   "cell_type": "markdown",
   "metadata": {
    "id": "X31w7Vyo5qmK"
   },
   "source": [
    "#Baseline Model"
   ]
  },
  {
   "cell_type": "code",
   "execution_count": null,
   "metadata": {
    "id": "I3urZ28r5V7O"
   },
   "outputs": [],
   "source": [
    "# model = Sequential()\n",
    "model = tf.keras.Sequential()\n",
    "\n",
    "#1. CNN LAYER\n",
    "model.add(tf.keras.layers.Conv2D(filters = 32, kernel_size = (3,3), padding = 'Same', input_shape=(80, 80, 1)))\n",
    "model.add(tf.keras.layers.Activation(\"relu\"))\n",
    "\n",
    "#2. CNN LAYER\n",
    "model.add(tf.keras.layers.Conv2D(filters = 32, kernel_size = (3,3), padding = 'Same'))\n",
    "model.add(tf.keras.layers.Activation(\"relu\"))\n",
    "\n",
    "model.add(tf.keras.layers.MaxPool2D(pool_size=(2, 2)))\n",
    "\n",
    "#3. CNN LAYER\n",
    "model.add(tf.keras.layers.Conv2D(filters = 64, kernel_size = (3,3), padding = 'Same'))\n",
    "model.add(tf.keras.layers.Activation(\"relu\"))\n",
    "\n",
    "#4. CNN LAYER\n",
    "model.add(tf.keras.layers.Conv2D(filters = 64, kernel_size = (3,3), padding = 'Same'))\n",
    "model.add(tf.keras.layers.Activation(\"relu\"))\n",
    "\n",
    "model.add(tf.keras.layers.MaxPool2D(pool_size=(2, 2)))\n",
    "\n",
    "#FULLY CONNECTED LAYER\n",
    "model.add(tf.keras.layers.Flatten())\n",
    "model.add(tf.keras.layers.Dense(256))\n",
    "model.add(tf.keras.layers.Activation(\"relu\"))\n",
    "\n",
    "#OUTPUT LAYER\n",
    "model.add(tf.keras.layers.Dense(2, activation='softmax'))"
   ]
  },
  {
   "cell_type": "code",
   "execution_count": null,
   "metadata": {
    "colab": {
     "base_uri": "https://localhost:8080/"
    },
    "id": "aCGz2Ojx5uW4",
    "outputId": "ab980f83-80a2-45d0-ba8b-f8caafaa6b2f"
   },
   "outputs": [],
   "source": [
    "optimizer = Adam()\n",
    "model.compile(optimizer = optimizer, loss = \"BinaryCrossentropy\", metrics=[\"accuracy\"])\n",
    "\n",
    "model.summary()"
   ]
  },
  {
   "cell_type": "code",
   "execution_count": null,
   "metadata": {
    "colab": {
     "base_uri": "https://localhost:8080/"
    },
    "id": "GP7pKItn5xNx",
    "outputId": "8d9396bc-86a0-4adb-bc94-08e3297d338f"
   },
   "outputs": [],
   "source": [
    "NO_EPOCHS = 300\n",
    "\n",
    "history = model.fit(x_train, y_train,\n",
    "                  batch_size=BATCH_SIZE,\n",
    "                  epochs=NO_EPOCHS,\n",
    "                  verbose=1,\n",
    "                  validation_data=(x_val, y_val))"
   ]
  },
  {
   "cell_type": "code",
   "execution_count": null,
   "metadata": {
    "id": "hhdaEza95z4M"
   },
   "outputs": [],
   "source": [
    "def create_trace(x,y,ylabel,color):\n",
    "        trace = go.Scatter(\n",
    "            x = x,y = y,\n",
    "            name=ylabel,\n",
    "            marker=dict(color=color),\n",
    "            mode = \"markers+lines\",\n",
    "            text=x\n",
    "        )\n",
    "        return trace\n",
    "    \n",
    "def plot_accuracy_and_loss(train_model):\n",
    "    hist = train_model.history\n",
    "    acc = hist['accuracy']\n",
    "    val_acc = hist['val_accuracy']\n",
    "    loss = hist['loss']\n",
    "    val_loss = hist['val_loss']\n",
    "    epochs = list(range(1,len(acc)+1))\n",
    "    \n",
    "    trace_ta = create_trace(epochs,acc,\"Training accuracy\", \"Green\")\n",
    "    trace_va = create_trace(epochs,val_acc,\"Validation accuracy\", \"Red\")\n",
    "    trace_tl = create_trace(epochs,loss,\"Training loss\", \"Blue\")\n",
    "    trace_vl = create_trace(epochs,val_loss,\"Validation loss\", \"Magenta\")\n",
    "   \n",
    "    fig = subplots.make_subplots(rows=1,cols=2, subplot_titles=('Training and validation accuracy',\n",
    "                                                             'Training and validation loss'))\n",
    "    fig.append_trace(trace_ta,1,1)\n",
    "    fig.append_trace(trace_va,1,1)\n",
    "    fig.append_trace(trace_tl,1,2)\n",
    "    fig.append_trace(trace_vl,1,2)\n",
    "    fig['layout']['xaxis'].update(title = 'Epoch')\n",
    "    fig['layout']['xaxis2'].update(title = 'Epoch')\n",
    "    fig['layout']['yaxis'].update(title = 'Accuracy', range=[0,1])\n",
    "    fig['layout']['yaxis2'].update(title = 'Loss', range=[0,1])\n",
    "\n",
    "    plotly.offline.iplot(fig, filename='accuracy-loss')"
   ]
  },
  {
   "cell_type": "code",
   "execution_count": null,
   "metadata": {
    "colab": {
     "base_uri": "https://localhost:8080/",
     "height": 542
    },
    "id": "hxinwN3C-9ds",
    "outputId": "54e0d0f0-e2a0-4cd5-9414-315a8a1fcfe6"
   },
   "outputs": [],
   "source": [
    "plot_accuracy_and_loss(history)"
   ]
  },
  {
   "cell_type": "code",
   "execution_count": null,
   "metadata": {
    "colab": {
     "base_uri": "https://localhost:8080/"
    },
    "id": "7p4zsYsv-_Mb",
    "outputId": "99467d4b-7cee-4558-d49f-6129f25391a9"
   },
   "outputs": [],
   "source": [
    "score = model.evaluate(test_data, y_test,verbose=0)\n",
    "print(\"Test Loss:\",score[0])\n",
    "print(\"Test Accuracy:\",score[1])"
   ]
  },
  {
   "cell_type": "code",
   "execution_count": null,
   "metadata": {
    "id": "njmSrPlCTbW8"
   },
   "outputs": [],
   "source": [
    "predicted_classes = model.predict(test_data)\n",
    "predicted_classes = np.argmax(predicted_classes, axis=1)"
   ]
  },
  {
   "cell_type": "code",
   "execution_count": null,
   "metadata": {
    "id": "ZVgEkMWwTcLl"
   },
   "outputs": [],
   "source": [
    "y_true = np.argmax(y_test, axis=1)"
   ]
  },
  {
   "cell_type": "code",
   "execution_count": null,
   "metadata": {
    "colab": {
     "base_uri": "https://localhost:8080/"
    },
    "id": "QIsEPNW9Tdue",
    "outputId": "21ca80cf-b3d3-451b-eb12-2eca36c00fb7"
   },
   "outputs": [],
   "source": [
    "cm = confusion_matrix(y_true, predicted_classes)\n",
    "cm"
   ]
  },
  {
   "cell_type": "code",
   "execution_count": null,
   "metadata": {
    "id": "dqPXCaqiTfVR"
   },
   "outputs": [],
   "source": [
    "def cm_plot(cm, labels):\n",
    "    x = labels\n",
    "    y = labels\n",
    "\n",
    "    z_text = [[str(y) for y in x] for x in cm]\n",
    "    fig = ff.create_annotated_heatmap(cm, x=x, y=y, annotation_text=z_text, colorscale='blues')\n",
    "\n",
    "    fig.update_layout(title_text='Confusion Matrix')\n",
    "\n",
    "    fig.add_annotation(dict(font=dict(color=\"black\",size=13),\n",
    "                            x=0.5,\n",
    "                            y=-0.15,\n",
    "                            showarrow=False,\n",
    "                            text=\"Predicted Value\",\n",
    "                            xref=\"paper\",\n",
    "                            yref=\"paper\"\n",
    "                           ))\n",
    "\n",
    "    fig.add_annotation(dict(font=dict(color=\"black\",size=13),\n",
    "                            x=-0.20,\n",
    "                            y=0.5,\n",
    "                            showarrow=False,\n",
    "                            text=\"Real Value\",\n",
    "                            textangle=-90,\n",
    "                            xref=\"paper\",\n",
    "                            yref=\"paper\"\n",
    "                           ))\n",
    "\n",
    "    fig.update_layout(margin=dict(t=50, l=200))\n",
    "    fig['layout']['yaxis']['autorange'] = \"reversed\"\n",
    "\n",
    "    fig['data'][0]['showscale'] = True\n",
    "    fig.show()"
   ]
  },
  {
   "cell_type": "code",
   "execution_count": null,
   "metadata": {
    "colab": {
     "base_uri": "https://localhost:8080/",
     "height": 542
    },
    "id": "nYzYo791TkLE",
    "outputId": "1da1c395-4ae5-4580-b78b-0ff592eb9d29"
   },
   "outputs": [],
   "source": [
    "cm_plot(cm,CATEGORIES)"
   ]
  },
  {
   "cell_type": "code",
   "execution_count": null,
   "metadata": {
    "colab": {
     "base_uri": "https://localhost:8080/"
    },
    "id": "Id3ctFFaTlnG",
    "outputId": "6ca61983-e111-4362-f0e9-425bdcc48906"
   },
   "outputs": [],
   "source": [
    "print(classification_report(y_true, predicted_classes, target_names=CATEGORIES, digits=4))"
   ]
  },
  {
   "cell_type": "markdown",
   "metadata": {
    "id": "S_GF-LtjMbDF"
   },
   "source": [
    "#Image Augmentation"
   ]
  },
  {
   "cell_type": "code",
   "execution_count": null,
   "metadata": {
    "id": "_MOqZWhX_HU2"
   },
   "outputs": [],
   "source": [
    "datagen = ImageDataGenerator(\n",
    "        rotation_range=0.05,    #Randomly rotate images in the range\n",
    "        zoom_range = 0.2,       #Randomly zoom image                \n",
    "        width_shift_range=0.1,  #Randomly shift images horizontally\n",
    "        height_shift_range=0.1, #Randomly shift images vertically\n",
    "        shear_range=0.05        #Randomly shear images\n",
    ")\n",
    "\n",
    "datagen.fit(x_train)"
   ]
  },
  {
   "cell_type": "code",
   "execution_count": null,
   "metadata": {
    "colab": {
     "base_uri": "https://localhost:8080/"
    },
    "id": "TIlxpoEAMzip",
    "outputId": "d3849895-a035-4fcf-f185-d34ea4bf418b"
   },
   "outputs": [],
   "source": [
    "x_batch = datagen.flow(x_train, y_train, batch_size=9).next()\n",
    "x_batch[0].shape"
   ]
  },
  {
   "cell_type": "code",
   "execution_count": null,
   "metadata": {
    "colab": {
     "base_uri": "https://localhost:8080/"
    },
    "id": "1xxMFfCoM1f_",
    "outputId": "6143f4ba-3447-426f-aedf-cb896c18b25f"
   },
   "outputs": [],
   "source": [
    "x_batch = x_batch[0].reshape((x_batch[0].shape[0], 80, 80))\n",
    "x_batch.shape"
   ]
  },
  {
   "cell_type": "code",
   "execution_count": null,
   "metadata": {
    "colab": {
     "base_uri": "https://localhost:8080/",
     "height": 268
    },
    "id": "U7wZWkyHM3Uw",
    "outputId": "ae218894-70c1-4d0f-ecf1-4951e65d5d06"
   },
   "outputs": [],
   "source": [
    "for i in range(0, 9):\n",
    "    plt.subplot(330 + 1 + i)\n",
    "    plt.imshow(x_batch[i], cmap=plt.get_cmap('gray'))\n",
    "    \n",
    "plt.savefig('waste2.jpeg', dpi=300)"
   ]
  },
  {
   "cell_type": "code",
   "execution_count": null,
   "metadata": {
    "id": "uUWlL_uyM-cm"
   },
   "outputs": [],
   "source": [
    "# model = Sequential()\n",
    "model = tf.keras.Sequential()\n",
    "\n",
    "#1. CNN LAYER\n",
    "model.add(tf.keras.layers.Conv2D(filters = 32, kernel_size = (3,3), padding = 'Same', input_shape=(80, 80, 1)))\n",
    "model.add(tf.keras.layers.Activation(\"relu\"))\n",
    "\n",
    "#2. CNN LAYER\n",
    "model.add(tf.keras.layers.Conv2D(filters = 32, kernel_size = (3,3), padding = 'Same'))\n",
    "model.add(tf.keras.layers.Activation(\"relu\"))\n",
    "\n",
    "model.add(tf.keras.layers.MaxPool2D(pool_size=(2, 2)))\n",
    "\n",
    "#3. CNN LAYER\n",
    "model.add(tf.keras.layers.Conv2D(filters = 64, kernel_size = (3,3), padding = 'Same'))\n",
    "model.add(tf.keras.layers.Activation(\"relu\"))\n",
    "\n",
    "#4. CNN LAYER\n",
    "model.add(tf.keras.layers.Conv2D(filters = 64, kernel_size = (3,3), padding = 'Same'))\n",
    "model.add(tf.keras.layers.Activation(\"relu\"))\n",
    "\n",
    "model.add(tf.keras.layers.MaxPool2D(pool_size=(2, 2)))\n",
    "\n",
    "#FULLY CONNECTED LAYER\n",
    "model.add(tf.keras.layers.Flatten())\n",
    "model.add(tf.keras.layers.Dense(256))\n",
    "model.add(tf.keras.layers.Activation(\"relu\"))\n",
    "\n",
    "#OUTPUT LAYER\n",
    "model.add(tf.keras.layers.Dense(2, activation='softmax'))"
   ]
  },
  {
   "cell_type": "code",
   "execution_count": null,
   "metadata": {
    "colab": {
     "base_uri": "https://localhost:8080/"
    },
    "id": "WfniIbPwNIUn",
    "outputId": "ffaebf9c-947e-4157-c27d-756ba7eca216"
   },
   "outputs": [],
   "source": [
    "optimizer = Adam()\n",
    "model.compile(optimizer = optimizer, loss = \"BinaryCrossentropy\", metrics=[\"accuracy\"])\n",
    "\n",
    "model.summary()"
   ]
  },
  {
   "cell_type": "code",
   "execution_count": null,
   "metadata": {
    "colab": {
     "base_uri": "https://localhost:8080/"
    },
    "id": "jSgQleMrNKLt",
    "outputId": "20cb1163-3f29-4330-b86c-9778c64dc492"
   },
   "outputs": [],
   "source": [
    "NO_EPOCHS = 300\n",
    "\n",
    "history = model.fit(datagen.flow(x_train, y_train, batch_size=BATCH_SIZE),\n",
    "                              shuffle=True,\n",
    "                              epochs=NO_EPOCHS, validation_data = (x_val, y_val),\n",
    "                              verbose=1, steps_per_epoch=x_train.shape[0] // BATCH_SIZE)"
   ]
  },
  {
   "cell_type": "code",
   "execution_count": null,
   "metadata": {
    "colab": {
     "base_uri": "https://localhost:8080/",
     "height": 542
    },
    "id": "SM-IpKXLNRFq",
    "outputId": "4c400dc5-190b-41e9-bf3d-21f27c86f8fd"
   },
   "outputs": [],
   "source": [
    "plot_accuracy_and_loss(history)"
   ]
  },
  {
   "cell_type": "code",
   "execution_count": null,
   "metadata": {
    "colab": {
     "base_uri": "https://localhost:8080/"
    },
    "id": "a5pvHgtnNTh2",
    "outputId": "edc701fc-75eb-4fac-af46-8c4f29858034"
   },
   "outputs": [],
   "source": [
    "score = model.evaluate(test_data, y_test,verbose=0)\n",
    "print(\"Test Loss:\",score[0])\n",
    "print(\"Test Accuracy:\",score[1])"
   ]
  },
  {
   "cell_type": "code",
   "execution_count": null,
   "metadata": {
    "id": "NRv4TBNUTpod"
   },
   "outputs": [],
   "source": [
    "predicted_classes = model.predict(test_data)\n",
    "predicted_classes = np.argmax(predicted_classes, axis=1)"
   ]
  },
  {
   "cell_type": "code",
   "execution_count": null,
   "metadata": {
    "id": "kERWqzYUTptk"
   },
   "outputs": [],
   "source": [
    "y_true = np.argmax(y_test, axis=1)"
   ]
  },
  {
   "cell_type": "code",
   "execution_count": null,
   "metadata": {
    "colab": {
     "base_uri": "https://localhost:8080/"
    },
    "id": "vQx3eV_MTpwy",
    "outputId": "094a0435-431c-4a8d-c326-b689cee877f2"
   },
   "outputs": [],
   "source": [
    "cm = confusion_matrix(y_true, predicted_classes)\n",
    "cm"
   ]
  },
  {
   "cell_type": "code",
   "execution_count": null,
   "metadata": {
    "colab": {
     "base_uri": "https://localhost:8080/",
     "height": 542
    },
    "id": "xBrc5yYqTpzt",
    "outputId": "71f73a26-0245-4cfe-a580-b34a8a7af2a4"
   },
   "outputs": [],
   "source": [
    "cm_plot(cm,CATEGORIES)"
   ]
  },
  {
   "cell_type": "code",
   "execution_count": null,
   "metadata": {
    "colab": {
     "base_uri": "https://localhost:8080/"
    },
    "id": "46GWsvvmTp24",
    "outputId": "25e63ed1-e6b7-4b01-a010-8aa1ffa5ca13"
   },
   "outputs": [],
   "source": [
    "print(classification_report(y_true, predicted_classes, target_names=CATEGORIES, digits=4))"
   ]
  },
  {
   "cell_type": "markdown",
   "metadata": {
    "id": "Gy8aJ2ImXGOJ"
   },
   "source": [
    "#Batch Normalization"
   ]
  },
  {
   "cell_type": "code",
   "execution_count": null,
   "metadata": {
    "id": "sKPforyCXKmi"
   },
   "outputs": [],
   "source": [
    "datagen = ImageDataGenerator(\n",
    "        rotation_range=0.05,    #Randomly rotate images in the range\n",
    "        zoom_range = 0.2,       #Randomly zoom image\n",
    "        width_shift_range=0.1,  #Randomly shift images horizontally\n",
    "        height_shift_range=0.1, #Randomly shift images vertically\n",
    "        shear_range=0.05\n",
    ")\n",
    "\n",
    "datagen.fit(x_train)"
   ]
  },
  {
   "cell_type": "code",
   "execution_count": null,
   "metadata": {
    "id": "-RpC6XjDXaNO"
   },
   "outputs": [],
   "source": [
    "# model = Sequential()\n",
    "model = tf.keras.Sequential()\n",
    "\n",
    "#1. CNN LAYER\n",
    "model.add(tf.keras.layers.Conv2D(filters = 32, kernel_size = (3,3), padding = 'Same', input_shape=(80, 80, 1)))\n",
    "model.add(tf.keras.layers.BatchNormalization())\n",
    "model.add(tf.keras.layers.Activation(\"relu\"))\n",
    "\n",
    "#2. CNN LAYER\n",
    "model.add(tf.keras.layers.Conv2D(filters = 32, kernel_size = (3,3), padding = 'Same'))\n",
    "model.add(tf.keras.layers.BatchNormalization())\n",
    "model.add(tf.keras.layers.Activation(\"relu\"))\n",
    "\n",
    "model.add(tf.keras.layers.MaxPool2D(pool_size=(2, 2)))\n",
    "\n",
    "#3. CNN LAYER\n",
    "model.add(tf.keras.layers.Conv2D(filters = 64, kernel_size = (3,3), padding = 'Same'))\n",
    "model.add(tf.keras.layers.BatchNormalization())\n",
    "model.add(tf.keras.layers.Activation(\"relu\"))\n",
    "\n",
    "#4. CNN LAYER\n",
    "model.add(tf.keras.layers.Conv2D(filters = 64, kernel_size = (3,3), padding = 'Same'))\n",
    "model.add(tf.keras.layers.BatchNormalization())\n",
    "model.add(tf.keras.layers.Activation(\"relu\"))\n",
    "\n",
    "model.add(tf.keras.layers.MaxPool2D(pool_size=(2, 2)))\n",
    "\n",
    "#FULLY CONNECTED LAYER\n",
    "model.add(tf.keras.layers.Flatten())\n",
    "model.add(tf.keras.layers.Dense(256))\n",
    "model.add(tf.keras.layers.BatchNormalization())\n",
    "model.add(tf.keras.layers.Activation(\"relu\"))\n",
    "\n",
    "#OUTPUT LAYER\n",
    "model.add(tf.keras.layers.Dense(2, activation='softmax'))"
   ]
  },
  {
   "cell_type": "code",
   "execution_count": null,
   "metadata": {
    "colab": {
     "base_uri": "https://localhost:8080/"
    },
    "id": "XUu-t7DLXeQu",
    "outputId": "2034baf5-3409-4e50-91e5-365f0b2719dd"
   },
   "outputs": [],
   "source": [
    "optimizer = Adam()\n",
    "model.compile(optimizer = optimizer, loss = \"BinaryCrossentropy\", metrics=[\"accuracy\"])\n",
    "\n",
    "model.summary()"
   ]
  },
  {
   "cell_type": "code",
   "execution_count": null,
   "metadata": {
    "colab": {
     "base_uri": "https://localhost:8080/"
    },
    "id": "3XKEP15LXgmE",
    "outputId": "556cf1c7-d651-4d33-c444-629f8d950df0"
   },
   "outputs": [],
   "source": [
    "NO_EPOCHS = 300\n",
    "history = model.fit(datagen.flow(x_train, y_train, batch_size=BATCH_SIZE),\n",
    "                              shuffle=True,\n",
    "                              epochs=NO_EPOCHS, validation_data = (x_val, y_val),\n",
    "                              verbose=1, steps_per_epoch=x_train.shape[0] // BATCH_SIZE)"
   ]
  },
  {
   "cell_type": "code",
   "execution_count": null,
   "metadata": {
    "colab": {
     "base_uri": "https://localhost:8080/",
     "height": 542
    },
    "id": "SOU7xJWJXoBZ",
    "outputId": "bbc0d673-ea70-4c94-ee1a-2264cd93fc1f"
   },
   "outputs": [],
   "source": [
    "plot_accuracy_and_loss(history)"
   ]
  },
  {
   "cell_type": "code",
   "execution_count": null,
   "metadata": {
    "colab": {
     "base_uri": "https://localhost:8080/"
    },
    "id": "TbmZl6WnXqtO",
    "outputId": "d1db9950-4b57-48f5-cb0c-d906bf8a919e"
   },
   "outputs": [],
   "source": [
    "score = model.evaluate(test_data, y_test,verbose=0)\n",
    "print(\"Test Loss:\",score[0])\n",
    "print(\"Test Accuracy:\",score[1])"
   ]
  },
  {
   "cell_type": "code",
   "execution_count": null,
   "metadata": {
    "id": "1p85ENRLT0Zp"
   },
   "outputs": [],
   "source": [
    "predicted_classes = model.predict(test_data)\n",
    "predicted_classes = np.argmax(predicted_classes, axis=1)"
   ]
  },
  {
   "cell_type": "code",
   "execution_count": null,
   "metadata": {
    "id": "Z8avY-3MT0cZ"
   },
   "outputs": [],
   "source": [
    "y_true = np.argmax(y_test, axis=1)"
   ]
  },
  {
   "cell_type": "code",
   "execution_count": null,
   "metadata": {
    "colab": {
     "base_uri": "https://localhost:8080/"
    },
    "id": "9nVtZDVST0ep",
    "outputId": "26ea88b2-ce4d-487c-ac77-65e7a6c9dfe8"
   },
   "outputs": [],
   "source": [
    "cm = confusion_matrix(y_true, predicted_classes)\n",
    "cm"
   ]
  },
  {
   "cell_type": "code",
   "execution_count": null,
   "metadata": {
    "colab": {
     "base_uri": "https://localhost:8080/",
     "height": 542
    },
    "id": "bRSXM0PpT5zX",
    "outputId": "66aaeedc-0e97-4e76-f697-a5536dc8c0bc"
   },
   "outputs": [],
   "source": [
    "cm_plot(cm,CATEGORIES)"
   ]
  },
  {
   "cell_type": "code",
   "execution_count": null,
   "metadata": {
    "colab": {
     "base_uri": "https://localhost:8080/"
    },
    "id": "ew_pctyhT0iz",
    "outputId": "22c35752-6edc-456f-c109-14031d6dcb5e"
   },
   "outputs": [],
   "source": [
    "print(classification_report(y_true, predicted_classes, target_names=CATEGORIES, digits=4))"
   ]
  },
  {
   "cell_type": "markdown",
   "metadata": {
    "id": "L_ItRvy9XuuJ"
   },
   "source": [
    "#Dropout"
   ]
  },
  {
   "cell_type": "code",
   "execution_count": null,
   "metadata": {
    "id": "hb_gW7EAXs0p"
   },
   "outputs": [],
   "source": [
    "datagen = ImageDataGenerator(\n",
    "        rotation_range=0.05,    #Randomly rotate images in the range\n",
    "        zoom_range=0.2,         #Randomly zoom image\n",
    "        width_shift_range=0.1,  #Randomly shift images horizontally\n",
    "        height_shift_range=0.1, #Randomly shift images vertically\n",
    "        shear_range=0.05        #Randomly shear images\n",
    ")\n",
    "\n",
    "datagen.fit(x_train)"
   ]
  },
  {
   "cell_type": "code",
   "execution_count": null,
   "metadata": {
    "id": "NzQj_fW8Xx1j"
   },
   "outputs": [],
   "source": [
    "# model = Sequential()\n",
    "model = tf.keras.Sequential()\n",
    "\n",
    "#1. CNN LAYER\n",
    "model.add(tf.keras.layers.Conv2D(filters = 32, kernel_size = (3,3), padding = 'Same', input_shape=(80, 80, 1)))\n",
    "model.add(tf.keras.layers.BatchNormalization())\n",
    "model.add(tf.keras.layers.Activation(\"relu\"))\n",
    "model.add(tf.keras.layers.Dropout(0.2))\n",
    "\n",
    "#2. CNN LAYER\n",
    "model.add(tf.keras.layers.Conv2D(filters = 32, kernel_size = (3,3), padding = 'Same'))\n",
    "model.add(tf.keras.layers.BatchNormalization())\n",
    "model.add(tf.keras.layers.Activation(\"relu\"))\n",
    "\n",
    "model.add(tf.keras.layers.MaxPool2D(pool_size=(2, 2)))\n",
    "model.add(tf.keras.layers.Dropout(0.2))\n",
    "\n",
    "#3. CNN LAYER\n",
    "model.add(tf.keras.layers.Conv2D(filters = 64, kernel_size = (3,3), padding = 'Same'))\n",
    "model.add(tf.keras.layers.BatchNormalization())\n",
    "model.add(tf.keras.layers.Activation(\"relu\"))\n",
    "model.add(tf.keras.layers.Dropout(0.2))\n",
    "\n",
    "#4. CNN LAYER\n",
    "model.add(tf.keras.layers.Conv2D(filters = 64, kernel_size = (3,3), padding = 'Same'))\n",
    "model.add(tf.keras.layers.BatchNormalization())\n",
    "model.add(tf.keras.layers.Activation(\"relu\"))\n",
    "\n",
    "model.add(tf.keras.layers.MaxPool2D(pool_size=(2, 2)))\n",
    "model.add(tf.keras.layers.Dropout(0.2))\n",
    "\n",
    "\n",
    "#FULLY CONNECTED LAYER\n",
    "model.add(tf.keras.layers.Flatten())\n",
    "model.add(tf.keras.layers.Dense(256))\n",
    "model.add(tf.keras.layers.BatchNormalization())\n",
    "model.add(tf.keras.layers.Activation(\"relu\"))\n",
    "model.add(tf.keras.layers.Dropout(0.20))\n",
    "\n",
    "#OUTPUT LAYER\n",
    "model.add(tf.keras.layers.Dense(2, activation='softmax'))"
   ]
  },
  {
   "cell_type": "code",
   "execution_count": null,
   "metadata": {
    "colab": {
     "base_uri": "https://localhost:8080/"
    },
    "id": "WfFrNKn6X4Oc",
    "outputId": "c7dc8b61-78b4-41fc-c329-49c48301e86d"
   },
   "outputs": [],
   "source": [
    "optimizer = Adam()\n",
    "model.compile(optimizer = optimizer, loss = \"BinaryCrossentropy\", metrics=[\"accuracy\"])\n",
    "\n",
    "model.summary()"
   ]
  },
  {
   "cell_type": "code",
   "execution_count": null,
   "metadata": {
    "colab": {
     "base_uri": "https://localhost:8080/"
    },
    "id": "qLzP6W9SX5wh",
    "outputId": "36e2d1e7-e625-4e18-9ba4-4262266b9ed2"
   },
   "outputs": [],
   "source": [
    "NO_EPOCHS = 300\n",
    "\n",
    "history = model.fit(datagen.flow(x_train, y_train, batch_size=BATCH_SIZE),\n",
    "                              shuffle=True,\n",
    "                              epochs=NO_EPOCHS, validation_data = (x_val, y_val),\n",
    "                              verbose = 1, steps_per_epoch=x_train.shape[0] // BATCH_SIZE)"
   ]
  },
  {
   "cell_type": "code",
   "execution_count": null,
   "metadata": {
    "colab": {
     "base_uri": "https://localhost:8080/",
     "height": 542
    },
    "id": "VbFfV46HX8ma",
    "outputId": "9d803935-252c-4a33-e133-cd4aae12e07e"
   },
   "outputs": [],
   "source": [
    "plot_accuracy_and_loss(history)"
   ]
  },
  {
   "cell_type": "code",
   "execution_count": null,
   "metadata": {
    "colab": {
     "base_uri": "https://localhost:8080/"
    },
    "id": "bbkAsL4wX-F9",
    "outputId": "d3214bd6-59ae-4e43-e728-ceae4919bd09"
   },
   "outputs": [],
   "source": [
    "score = model.evaluate(test_data, y_test,verbose=0)\n",
    "print(\"Test Loss:\",score[0])\n",
    "print(\"Test Accuracy:\",score[1])"
   ]
  },
  {
   "cell_type": "code",
   "execution_count": null,
   "metadata": {
    "id": "HITeyNHvT-lG"
   },
   "outputs": [],
   "source": [
    "predicted_classes = model.predict(test_data)\n",
    "predicted_classes = np.argmax(predicted_classes, axis=1)"
   ]
  },
  {
   "cell_type": "code",
   "execution_count": null,
   "metadata": {
    "id": "dazFeWYkT-rZ"
   },
   "outputs": [],
   "source": [
    "y_true = np.argmax(y_test, axis=1)"
   ]
  },
  {
   "cell_type": "code",
   "execution_count": null,
   "metadata": {
    "colab": {
     "base_uri": "https://localhost:8080/"
    },
    "id": "CB4APG-sT-xa",
    "outputId": "0cb56a07-3acd-4dd8-deee-3e4ab45cd710"
   },
   "outputs": [],
   "source": [
    "cm = confusion_matrix(y_true, predicted_classes)\n",
    "cm"
   ]
  },
  {
   "cell_type": "code",
   "execution_count": null,
   "metadata": {
    "colab": {
     "base_uri": "https://localhost:8080/",
     "height": 542
    },
    "id": "WSBeic3WT-3m",
    "outputId": "3eac9df1-d60b-44a0-c62b-3b635aaef83d"
   },
   "outputs": [],
   "source": [
    "cm_plot(cm,CATEGORIES)"
   ]
  },
  {
   "cell_type": "code",
   "execution_count": null,
   "metadata": {
    "colab": {
     "base_uri": "https://localhost:8080/"
    },
    "id": "6k_OfGBlT_CD",
    "outputId": "0861e47c-bbf2-4184-a0cb-c19fe0d7447a"
   },
   "outputs": [],
   "source": [
    "print(classification_report(y_true, predicted_classes, target_names=CATEGORIES, digits=4))"
   ]
  }
 ],
 "metadata": {
  "accelerator": "TPU",
  "colab": {
   "collapsed_sections": [],
   "name": "clean and messy imsize80 epoch300",
   "provenance": []
  },
  "kernelspec": {
   "display_name": "Python 3 (ipykernel)",
   "language": "python",
   "name": "python3"
  },
  "language_info": {
   "codemirror_mode": {
    "name": "ipython",
    "version": 3
   },
   "file_extension": ".py",
   "mimetype": "text/x-python",
   "name": "python",
   "nbconvert_exporter": "python",
   "pygments_lexer": "ipython3",
   "version": "3.8.0"
  }
 },
 "nbformat": 4,
 "nbformat_minor": 1
}
